{
 "cells": [
  {
   "cell_type": "code",
   "execution_count": 1,
   "id": "25be0166",
   "metadata": {},
   "outputs": [],
   "source": [
    "from sympy import symbols, diff, lambdify\n",
    "import numpy as np"
   ]
  },
  {
   "cell_type": "code",
   "execution_count": 2,
   "id": "789e3c1f",
   "metadata": {},
   "outputs": [],
   "source": [
    "# Inisialisasi simbolik\n",
    "x = symbols('x')\n",
    "f_expr = -4 + 7 * x**2\n",
    "f_lamb = lambdify(x, f_expr, 'numpy')"
   ]
  },
  {
   "cell_type": "code",
   "execution_count": 3,
   "id": "8dfed7ef",
   "metadata": {},
   "outputs": [],
   "source": [
    "# Simpson 1/3 rule\n",
    "def simpson_one_third(f, a, b, n=2):\n",
    "    if n % 2 != 0:\n",
    "        raise ValueError(\"n harus genap\")\n",
    "    h = (b - a) / n\n",
    "    x_vals = [a + i*h for i in range(n+1)]\n",
    "    y_vals = [f(xi) for xi in x_vals]\n",
    "    return round(h/3 * (y_vals[0] + y_vals[-1] + 4 * y_vals[1] + 2 * sum(y_vals[2:-1:2])), 2)"
   ]
  },
  {
   "cell_type": "code",
   "execution_count": 4,
   "id": "292ba11e",
   "metadata": {},
   "outputs": [],
   "source": [
    "# Error estimator\n",
    "def simpson_error(expr, a, b, n=2):\n",
    "    f4 = diff(expr, x, 4)\n",
    "    f4_lamb = lambdify(x, f4, 'numpy')\n",
    "    x_vals = np.linspace(a, b, 1000)\n",
    "    max_f4 = np.max(np.abs(f4_lamb(x_vals)))\n",
    "    h = (b - a) / n\n",
    "    error = -((b - a) * h**4 / 180) * max_f4\n",
    "    return 0.0 if abs(error) < 1e-10 else round(error, 2)"
   ]
  },
  {
   "cell_type": "code",
   "execution_count": 5,
   "id": "a007bc7b",
   "metadata": {},
   "outputs": [],
   "source": [
    "# Parameter\n",
    "a = 0\n",
    "b = 12\n",
    "n = 2\n",
    "mid = (a + b) / 2"
   ]
  },
  {
   "cell_type": "code",
   "execution_count": 6,
   "id": "0530df68",
   "metadata": {},
   "outputs": [],
   "source": [
    "\n",
    "# Evaluasi fungsi\n",
    "fa = round(f_lamb(a), 1)\n",
    "fmid = round(f_lamb(mid), 1)\n",
    "fb = round(f_lamb(b), 1)"
   ]
  },
  {
   "cell_type": "code",
   "execution_count": 7,
   "id": "6af3fafb",
   "metadata": {},
   "outputs": [],
   "source": [
    "# Hasil dan error\n",
    "hasil = simpson_one_third(f_lamb, a, b, n)\n",
    "err = simpson_error(f_expr, a, b, n)"
   ]
  },
  {
   "cell_type": "code",
   "execution_count": 8,
   "id": "e43586e5",
   "metadata": {},
   "outputs": [
    {
     "name": "stdout",
     "output_type": "stream",
     "text": [
      "Result of Simpson's 1/3 rule: 3984.0\n",
      "True error Et: 0.0\n",
      "\n",
      "------------------------------------------------------------\n",
      "\n",
      "f(a)   = -4\n",
      "f(mid) = 248.0\n",
      "f(b)   = 1004\n",
      "Result of alternative Simpson's 1/3 rule: 3984.0\n",
      "True error Et: 0.0\n"
     ]
    }
   ],
   "source": [
    "\n",
    "# Format output\n",
    "print(f\"Result of Simpson's 1/3 rule: {hasil}\")\n",
    "print(f\"True error Et: {err}\\n\")\n",
    "print(\"------------------------------------------------------------\\n\")\n",
    "print(f\"f(a)   = {fa}\")\n",
    "print(f\"f(mid) = {fmid}\")\n",
    "print(f\"f(b)   = {fb}\")\n",
    "print(f\"Result of alternative Simpson's 1/3 rule: {hasil}\")\n",
    "print(f\"True error Et: {err}\")"
   ]
  }
 ],
 "metadata": {
  "kernelspec": {
   "display_name": "Python 3",
   "language": "python",
   "name": "python3"
  },
  "language_info": {
   "codemirror_mode": {
    "name": "ipython",
    "version": 3
   },
   "file_extension": ".py",
   "mimetype": "text/x-python",
   "name": "python",
   "nbconvert_exporter": "python",
   "pygments_lexer": "ipython3",
   "version": "3.12.2"
  }
 },
 "nbformat": 4,
 "nbformat_minor": 5
}
